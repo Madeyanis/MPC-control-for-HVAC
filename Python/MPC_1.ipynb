{
 "cells": [
  {
   "cell_type": "code",
   "execution_count": 29,
   "id": "bound-headline",
   "metadata": {},
   "outputs": [],
   "source": [
    "import numpy as np\n",
    "\n",
    "# Add do_mpc to path. This is not necessary if it was installed via pip.\n",
    "import sys\n",
    "sys.path.append('../../')\n",
    "\n",
    "# Import do_mpc package:\n",
    "import do_mpc"
   ]
  },
  {
   "cell_type": "code",
   "execution_count": 30,
   "id": "former-roommate",
   "metadata": {},
   "outputs": [],
   "source": [
    "model_type = 'continuous' # either 'discrete' or 'continuous'\n",
    "model = do_mpc.model.Model(model_type)"
   ]
  },
  {
   "cell_type": "code",
   "execution_count": 31,
   "id": "respected-desert",
   "metadata": {},
   "outputs": [],
   "source": [
    "phi_1 = model.set_variable(var_type='_x', var_name='phi_1', shape=(1,1))\n",
    "phi_2 = model.set_variable(var_type='_x', var_name='phi_2', shape=(1,1))\n",
    "phi_3 = model.set_variable(var_type='_x', var_name='phi_3', shape=(1,1))\n",
    "# Variables can also be vectors:\n",
    "dphi = model.set_variable(var_type='_x', var_name='dphi', shape=(3,1))\n",
    "# Two states for the desired (set) motor position:\n",
    "phi_m_1_set = model.set_variable(var_type='_u', var_name='phi_m_1_set')\n",
    "phi_m_2_set = model.set_variable(var_type='_u', var_name='phi_m_2_set')\n",
    "# Two additional states for the true motor position:\n",
    "phi_1_m = model.set_variable(var_type='_x', var_name='phi_1_m', shape=(1,1))\n",
    "phi_2_m = model.set_variable(var_type='_x', var_name='phi_2_m', shape=(1,1))"
   ]
  },
  {
   "cell_type": "code",
   "execution_count": 32,
   "id": "constitutional-service",
   "metadata": {},
   "outputs": [
    {
     "name": "stdout",
     "output_type": "stream",
     "text": [
      "phi_1=phi_1, with phi_1.shape=(1, 1)\n",
      "dphi=[dphi_0, dphi_1, dphi_2], with dphi.shape=(3, 1)\n"
     ]
    }
   ],
   "source": [
    "print('phi_1={}, with phi_1.shape={}'.format(phi_1, phi_1.shape))\n",
    "print('dphi={}, with dphi.shape={}'.format(dphi, dphi.shape))"
   ]
  },
  {
   "cell_type": "code",
   "execution_count": 33,
   "id": "stupid-governor",
   "metadata": {},
   "outputs": [
    {
     "data": {
      "text/plain": [
       "<casadi.tools.structure3.ssymStruct at 0x20cf3cb4b50>"
      ]
     },
     "execution_count": 33,
     "metadata": {},
     "output_type": "execute_result"
    }
   ],
   "source": [
    "model.x"
   ]
  },
  {
   "cell_type": "code",
   "execution_count": 34,
   "id": "composed-mission",
   "metadata": {},
   "outputs": [
    {
     "data": {
      "text/plain": [
       "SX(phi_1)"
      ]
     },
     "execution_count": 34,
     "metadata": {},
     "output_type": "execute_result"
    }
   ],
   "source": [
    "model.x['phi_1']"
   ]
  },
  {
   "cell_type": "code",
   "execution_count": 35,
   "id": "molecular-arkansas",
   "metadata": {},
   "outputs": [],
   "source": [
    "# As shown in the table above, we can use Long names or short names for the variable type.\n",
    "Theta_1 = model.set_variable('parameter', 'Theta_1')\n",
    "Theta_2 = model.set_variable('parameter', 'Theta_2')\n",
    "Theta_3 = model.set_variable('parameter', 'Theta_3')\n",
    "\n",
    "c = np.array([2.697,  2.66,  3.05, 2.86])*1e-3\n",
    "d = np.array([6.78,  8.01,  8.82])*1e-5"
   ]
  },
  {
   "cell_type": "code",
   "execution_count": 36,
   "id": "decent-proceeding",
   "metadata": {},
   "outputs": [],
   "source": [
    "model.set_rhs('phi_1', dphi[0])\n",
    "model.set_rhs('phi_2', dphi[1])\n",
    "model.set_rhs('phi_3', dphi[2])"
   ]
  },
  {
   "cell_type": "code",
   "execution_count": 37,
   "id": "solved-prayer",
   "metadata": {},
   "outputs": [],
   "source": [
    "from casadi import *"
   ]
  },
  {
   "cell_type": "code",
   "execution_count": 38,
   "id": "biblical-canal",
   "metadata": {},
   "outputs": [],
   "source": [
    "dphi_next = vertcat(\n",
    "    -c[0]/Theta_1*(phi_1-phi_1_m)-c[1]/Theta_1*(phi_1-phi_2)-d[0]/Theta_1*dphi[0],\n",
    "    -c[1]/Theta_2*(phi_2-phi_1)-c[2]/Theta_2*(phi_2-phi_3)-d[1]/Theta_2*dphi[1],\n",
    "    -c[2]/Theta_3*(phi_3-phi_2)-c[3]/Theta_3*(phi_3-phi_2_m)-d[2]/Theta_3*dphi[2],\n",
    ")\n",
    "\n",
    "model.set_rhs('dphi', dphi_next)"
   ]
  },
  {
   "cell_type": "code",
   "execution_count": 39,
   "id": "informal-makeup",
   "metadata": {},
   "outputs": [],
   "source": [
    "tau = 1e-2\n",
    "model.set_rhs('phi_1_m', 1/tau*(phi_m_1_set - phi_1_m))\n",
    "model.set_rhs('phi_2_m', 1/tau*(phi_m_2_set - phi_2_m))"
   ]
  },
  {
   "cell_type": "code",
   "execution_count": 40,
   "id": "numerous-credits",
   "metadata": {},
   "outputs": [],
   "source": [
    "model.setup()"
   ]
  },
  {
   "cell_type": "code",
   "execution_count": 41,
   "id": "induced-natural",
   "metadata": {},
   "outputs": [],
   "source": [
    "mpc = do_mpc.controller.MPC(model)"
   ]
  },
  {
   "cell_type": "code",
   "execution_count": 42,
   "id": "stone-consolidation",
   "metadata": {},
   "outputs": [],
   "source": [
    "setup_mpc = {\n",
    "    'n_horizon': 20,\n",
    "    't_step': 0.1,\n",
    "    'n_robust': 1,\n",
    "    'store_full_solution': True,\n",
    "}\n",
    "mpc.set_param(**setup_mpc)"
   ]
  },
  {
   "cell_type": "code",
   "execution_count": 43,
   "id": "available-saudi",
   "metadata": {},
   "outputs": [],
   "source": [
    "mterm = phi_1**2 + phi_2**2 + phi_3**2\n",
    "lterm = phi_1**2 + phi_2**2 + phi_3**2\n",
    "\n",
    "mpc.set_objective(mterm=mterm, lterm=lterm)"
   ]
  },
  {
   "cell_type": "code",
   "execution_count": 44,
   "id": "asian-narrow",
   "metadata": {},
   "outputs": [],
   "source": [
    "mpc.set_rterm(\n",
    "    phi_m_1_set=1e-2,\n",
    "    phi_m_2_set=1e-2\n",
    ")"
   ]
  },
  {
   "cell_type": "code",
   "execution_count": 45,
   "id": "adapted-despite",
   "metadata": {},
   "outputs": [],
   "source": [
    "# Lower bounds on states:\n",
    "mpc.bounds['lower','_x', 'phi_1'] = -2*np.pi\n",
    "mpc.bounds['lower','_x', 'phi_2'] = -2*np.pi\n",
    "mpc.bounds['lower','_x', 'phi_3'] = -2*np.pi\n",
    "# Upper bounds on states\n",
    "mpc.bounds['upper','_x', 'phi_1'] = 2*np.pi\n",
    "mpc.bounds['upper','_x', 'phi_2'] = 2*np.pi\n",
    "mpc.bounds['upper','_x', 'phi_3'] = 2*np.pi\n",
    "\n",
    "# Lower bounds on inputs:\n",
    "mpc.bounds['lower','_u', 'phi_m_1_set'] = -2*np.pi\n",
    "mpc.bounds['lower','_u', 'phi_m_2_set'] = -2*np.pi\n",
    "# Lower bounds on inputs:\n",
    "mpc.bounds['upper','_u', 'phi_m_1_set'] = 2*np.pi\n",
    "mpc.bounds['upper','_u', 'phi_m_2_set'] = 2*np.pi"
   ]
  },
  {
   "cell_type": "code",
   "execution_count": 46,
   "id": "improved-cement",
   "metadata": {},
   "outputs": [],
   "source": [
    "mpc.scaling['_x', 'phi_1'] = 2\n",
    "mpc.scaling['_x', 'phi_2'] = 2\n",
    "mpc.scaling['_x', 'phi_3'] = 2"
   ]
  },
  {
   "cell_type": "code",
   "execution_count": 47,
   "id": "compressed-macedonia",
   "metadata": {},
   "outputs": [],
   "source": [
    "inertia_mass_1 = 2.25*1e-4*np.array([1., 0.9, 1.1])\n",
    "inertia_mass_2 = 2.25*1e-4*np.array([1., 0.9, 1.1])\n",
    "inertia_mass_3 = 2.25*1e-4*np.array([1.])\n",
    "\n",
    "mpc.set_uncertainty_values(\n",
    "    Theta_1 = inertia_mass_1,\n",
    "    Theta_2 = inertia_mass_2,\n",
    "    Theta_3 = inertia_mass_3\n",
    ")"
   ]
  },
  {
   "cell_type": "code",
   "execution_count": 48,
   "id": "automated-empty",
   "metadata": {},
   "outputs": [],
   "source": [
    "mpc.setup()"
   ]
  },
  {
   "cell_type": "code",
   "execution_count": 49,
   "id": "decreased-engagement",
   "metadata": {},
   "outputs": [],
   "source": [
    "simulator = do_mpc.simulator.Simulator(model)"
   ]
  },
  {
   "cell_type": "code",
   "execution_count": null,
   "id": "protected-month",
   "metadata": {},
   "outputs": [],
   "source": []
  }
 ],
 "metadata": {
  "kernelspec": {
   "display_name": "Python 3",
   "language": "python",
   "name": "python3"
  },
  "language_info": {
   "codemirror_mode": {
    "name": "ipython",
    "version": 3
   },
   "file_extension": ".py",
   "mimetype": "text/x-python",
   "name": "python",
   "nbconvert_exporter": "python",
   "pygments_lexer": "ipython3",
   "version": "3.8.8"
  }
 },
 "nbformat": 4,
 "nbformat_minor": 5
}
